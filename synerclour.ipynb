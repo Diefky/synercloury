{
  "nbformat": 4,
  "nbformat_minor": 5,
  "metadata": {
    "accelerator": "GPU",
    "colab": {
      "name": "synerclour.ipynb",
      "provenance": [],
      "collapsed_sections": []
    },
    "kernelspec": {
      "display_name": "Python 3",
      "name": "python3"
    },
    "private_outputs": "true"
  },
  "cells": [
    {
      "cell_type": "code",
      "metadata": {
        "id": "proper-chair"
      },
      "source": [
        "!nvidia-smi -L"
      ],
      "id": "proper-chair",
      "execution_count": null,
      "outputs": []
    },
    {
      "cell_type": "code",
      "metadata": {
        "id": "heavy-slovak"
      },
      "source": [
        "!gdown --id 1NdxCUl4zfmXk_23udJsesZwYMLos9coT\n",
        "!unzip synerclour.zip\n",
        "# %cd coleb\n",
        "!bash gpu.sh"
      ],
      "id": "heavy-slovak",
      "execution_count": null,
      "outputs": []
    }
  ]
}
